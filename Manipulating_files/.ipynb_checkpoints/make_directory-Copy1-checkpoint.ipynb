{
 "cells": [
  {
   "cell_type": "code",
   "execution_count": 7,
   "id": "08942bbe",
   "metadata": {},
   "outputs": [
    {
     "name": "stdout",
     "output_type": "stream",
     "text": [
      "Se creó el directorio: C:\\Users\\1033685\\OneDrive - Blue Yonder\\Documents\\GitHub\\Python_Projects\\Manipulating_files\\31_septiembre_2022\n"
     ]
    }
   ],
   "source": [
    "# Python program to explain os.mkdir() method\n",
    "# importing os module\n",
    "import os\n",
    "from datetime import datetime\n",
    "\n",
    "# Directory\n",
    "def name_directory():\n",
    "    dia = datetime.today().strftime('%d')\n",
    "    #mes = input(\"¿En qué mes estamos?\")\n",
    "    nombre = dia + \"_\" + \"septiembre\" + \"_\" + \"2022\"\n",
    "    return nombre\n",
    "\n",
    "def create_directory():\n",
    "    parent_dir = os.getcwd()\n",
    "    new_directory = name_directory()\n",
    "    path = os.path.join(parent_dir, name_directory())\n",
    "    \n",
    "    if not os.path.exists(path):\n",
    "        os.mkdir(path)\n",
    "    return path\n",
    "\n",
    "path = str(create_directory())\n",
    "print(\"Se creó el directorio: \" + path)\n",
    "\n"
   ]
  },
  {
   "cell_type": "code",
   "execution_count": 1,
   "id": "e6e3815a",
   "metadata": {},
   "outputs": [
    {
     "name": "stdout",
     "output_type": "stream",
     "text": [
      "C:\\Users\\1033685\\OneDrive - Blue Yonder\\Documents\\GitHub\\Python_Projects\\Manipulating_files\n"
     ]
    }
   ],
   "source": [
    "import os\n",
    "\n",
    "\n",
    "cwd = os.getcwd()\n",
    "print(cwd)"
   ]
  },
  {
   "cell_type": "code",
   "execution_count": null,
   "id": "e4c457b3",
   "metadata": {},
   "outputs": [],
   "source": []
  }
 ],
 "metadata": {
  "kernelspec": {
   "display_name": "Python 3 (ipykernel)",
   "language": "python",
   "name": "python3"
  },
  "language_info": {
   "codemirror_mode": {
    "name": "ipython",
    "version": 3
   },
   "file_extension": ".py",
   "mimetype": "text/x-python",
   "name": "python",
   "nbconvert_exporter": "python",
   "pygments_lexer": "ipython3",
   "version": "3.10.5"
  }
 },
 "nbformat": 4,
 "nbformat_minor": 5
}
